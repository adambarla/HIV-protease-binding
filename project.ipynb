{
 "cells": [
  {
   "cell_type": "markdown",
   "id": "692a7dae-28ba-4141-b06d-2b29a146b11f",
   "metadata": {},
   "source": [
    "# Best ligand\n",
    "\n",
    "choosing the ligand with the best fit after qvina docking for all of them"
   ]
  },
  {
   "cell_type": "code",
   "execution_count": null,
   "id": "28ee394a-4cb5-4813-adf0-bfaf171ec2a0",
   "metadata": {
    "editable": true,
    "slideshow": {
     "slide_type": ""
    },
    "tags": []
   },
   "outputs": [],
   "source": [
    "import os\n",
    "import tqdm\n",
    "import numpy as np\n",
    "import pandas as pd\n",
    "import nglview as nv\n",
    "import MDAnalysis as mda"
   ]
  },
  {
   "cell_type": "code",
   "execution_count": null,
   "id": "2559a76d-8255-46b2-b390-4107125a6557",
   "metadata": {
    "scrolled": true
   },
   "outputs": [],
   "source": [
    "folder = \"data/out/\"\n",
    "files = os.listdir(folder)"
   ]
  },
  {
   "cell_type": "code",
   "execution_count": null,
   "id": "a9cfb9dc-1d49-4d74-9af8-23275a1e86a1",
   "metadata": {
    "editable": true,
    "scrolled": true,
    "slideshow": {
     "slide_type": ""
    },
    "tags": []
   },
   "outputs": [],
   "source": [
    "results = {}\n",
    "for name in tqdm.tqdm(files):\n",
    "    if \".pdbqt\" in name:\n",
    "        with open(folder + name, \"r\") as f:\n",
    "            model = 1\n",
    "            for l in f.readlines():\n",
    "                if \"REMARK VINA RESULT\" in l:\n",
    "                    m = model\n",
    "                    if results.get(name[:-10]) is None:\n",
    "                        results[name[:-10]] = {m:float(l.split()[3])}\n",
    "                    else:\n",
    "                        results[name[:-10]][m] = float(l.split()[3])\n",
    "                    model += 1\n"
   ]
  },
  {
   "cell_type": "code",
   "execution_count": null,
   "id": "a9ee959b-a072-455b-99fb-b21e41ced408",
   "metadata": {},
   "outputs": [],
   "source": [
    "df = pd.DataFrame.from_dict(results, orient='index')\n",
    "df['min'] = df.min(axis=1)\n",
    "df_sf = df.sort_values('min').head(10)\n",
    "df_sf.to_csv('report/figures/best_fits.csv',header=False)\n",
    "df_sf"
   ]
  },
  {
   "cell_type": "code",
   "execution_count": null,
   "id": "7e6652a4-70e4-45ec-8aad-5b3dd2d4c147",
   "metadata": {
    "scrolled": true
   },
   "outputs": [],
   "source": [
    "best_ligand = df_sf.iloc[2].name\n",
    "print(best_ligand)\n",
    "with open(f'{folder}{best_ligand}_out.pdbqt', \"r\") as f:\n",
    "    print(f.read())\n"
   ]
  },
  {
   "cell_type": "code",
   "execution_count": null,
   "id": "28e984fd-b3ba-41c1-a7a2-1bcfc4f45850",
   "metadata": {},
   "outputs": [],
   "source": [
    "view = nv.show_file(f'data/fda_pdbqt/{best_ligand}.pdbqt',ext='pdbqt')\n",
    "# view.clear()\n",
    "# view.add_representation('cartoon', selection='protein')\n",
    "# view.camera = 'orthographic'  # Optional: Sets the camera to orthographic for clearer views without perspective distortion\n",
    "view.parameters = {\"fogNear\": 0, \"fogFar\": 1000} \n",
    "view"
   ]
  },
  {
   "cell_type": "code",
   "execution_count": null,
   "id": "36a01ce5-2a1e-400c-93a1-e27601ecf4a5",
   "metadata": {},
   "outputs": [],
   "source": [
    "# view.download_image(\"best_ligand.png\",factor=10,trim=True,transparent=True)"
   ]
  },
  {
   "cell_type": "code",
   "execution_count": null,
   "id": "e29c1c57-5aaa-47cf-b8a9-f54ee7bb6e4a",
   "metadata": {},
   "outputs": [],
   "source": [
    "df.loc['saquinavir']"
   ]
  },
  {
   "cell_type": "code",
   "execution_count": null,
   "id": "f865e038-253d-438f-a8c5-bbbb8a6d5e1b",
   "metadata": {
    "scrolled": true
   },
   "outputs": [],
   "source": [
    "with open(f'{folder}saquinavir_out.pdbqt', \"r\") as f:\n",
    "    print(f.read())"
   ]
  },
  {
   "cell_type": "code",
   "execution_count": null,
   "id": "2ae2af25-dadb-49c4-9e03-73040576819e",
   "metadata": {},
   "outputs": [],
   "source": [
    "view = nv.show_file(f'data/saquinavir.pdbqt',ext='pdbqt')\n",
    "# view.clear()\n",
    "# view.add_representation('label',selection='protein',labelType='atom name')\n",
    "# view.add_representation('cartoon', selection='protein')\n",
    "# view.camera = 'orthographic'  # Optional: Sets the camera to orthographic for clearer views without perspective distortion\n",
    "view.parameters = {\"fogNear\": 0, \"fogFar\": 1000} \n",
    "view"
   ]
  },
  {
   "cell_type": "code",
   "execution_count": null,
   "id": "0e34a3b9-e5e2-460c-8475-003c86fd5585",
   "metadata": {},
   "outputs": [],
   "source": [
    "# view.download_image(\"figures/saquinavir_nglview.png\",factor=10,trim=True,transparent=True)"
   ]
  },
  {
   "cell_type": "markdown",
   "id": "282f498f-0ed4-44a2-a6eb-96dce0743cfc",
   "metadata": {},
   "source": [
    "# MD"
   ]
  },
  {
   "cell_type": "code",
   "execution_count": null,
   "id": "dce0bf8f-a691-4709-945f-40ed6a82b5ef",
   "metadata": {},
   "outputs": [],
   "source": [
    "# protein\n",
    "view = nv.show_file(f'md/pro.pdb',ext='pdb')\n",
    "view.clear()\n",
    "# view.add_representation('label',selection='protein')\n",
    "# view.add_representation('spacefill',selection='protein',sphereDetail=0)\n",
    "view.add_representation('surface',surfaceType='av',colorScheme='chainname')\n",
    "# view.camera = 'orthographic'  # Optional: Sets the camera to orthographic for clearer views without perspective distortion\n",
    "view.parameters = {\"fogNear\": 0, \"fogFar\": 1000} \n",
    "view"
   ]
  },
  {
   "cell_type": "code",
   "execution_count": null,
   "id": "d7f562ef-646b-424b-9f87-bc2b796c9b72",
   "metadata": {},
   "outputs": [],
   "source": [
    "# view.download_image(\"hiv1_nglview.png\",factor=10,trim=True,transparent=True)"
   ]
  },
  {
   "cell_type": "code",
   "execution_count": null,
   "id": "c763da41-cd99-4f01-9adc-cfbbcee77f09",
   "metadata": {},
   "outputs": [],
   "source": [
    "# protein\n",
    "view = nv.show_file(f\"data/1hxb.pdb\",ext='pdb')\n",
    "view.clear()\n",
    "view.add_representation('licorice',selection='protein',color='white')\n",
    "view.add_representation('hyperball',selection='ligand',colorScheme='densityfit')\n",
    "# view.add_representation('base',selection='ligand')\n",
    "view.add_representation('distances',selection='ligand')\n",
    "view.add_distance()\n",
    "# view.add_representation('spacefill',selection='protein',sphereDetail=0)\n",
    "# view.add_representation('surface',surfaceType='av',colorScheme='chainname')\n",
    "# view.camera = 'orthographic'  # Optional: Sets the camera to orthographic for clearer views without perspective distortion\n",
    "view.parameters = {\"fogNear\": 0, \"fogFar\": 1000} \n",
    "view"
   ]
  },
  {
   "cell_type": "code",
   "execution_count": null,
   "id": "d040416c-a954-408e-a3c5-ac9d223c00bb",
   "metadata": {},
   "outputs": [],
   "source": [
    "view.download_image(\"distances_nglview.png\",factor=10,trim=True,transparent=True)"
   ]
  },
  {
   "cell_type": "markdown",
   "id": "4580d069-90e0-4cf1-a0df-3d303d65d5b1",
   "metadata": {},
   "source": [
    "## Saquinavir md"
   ]
  },
  {
   "cell_type": "code",
   "execution_count": null,
   "id": "eefbe955-6e0a-4723-a879-517a9c502b1d",
   "metadata": {
    "scrolled": true
   },
   "outputs": [],
   "source": [
    "# Load the molecular dynamics universe\n",
    "u = mda.Universe('test_md/md001.tpr', 'test_md/md001.xtc')\n",
    "\n",
    "# Create a NGLview widget\n",
    "view = nv.show_mdanalysis(u)\n",
    "view.clear()\n",
    "view.add_representation('cartoon', selection='protein')  # Adds a cartoon representation of the protein\n",
    "view.add_representation('ball+stick', selection='turn')  # Adjust selection as needed\n",
    "# view.add_representation('licorice', selection='seg_0_system1')\n",
    "# Display the widget\n",
    "view"
   ]
  },
  {
   "cell_type": "markdown",
   "id": "141a944f-a90b-434f-9730-c7294aa52985",
   "metadata": {},
   "source": [
    "## Ligand fda1700 md"
   ]
  },
  {
   "cell_type": "code",
   "execution_count": null,
   "id": "deabdf61-6d7a-4704-9aea-0e7fe3cc3675",
   "metadata": {},
   "outputs": [],
   "source": [
    "# Load the molecular dynamics universe\n",
    "u = mda.Universe('md/md001.tpr', 'md/md001.xtc')\n",
    "\n",
    "# Create a NGLview widget\n",
    "view = nv.show_mdanalysis(u)\n",
    "view.clear()\n",
    "view.add_representation('cartoon')  # Adds a cartoon representation of the protein\n",
    "view.add_representation('ball+stick', selection='ligand')  # Adjust selection as needed\n",
    "\n",
    "# Display the widget\n",
    "view"
   ]
  },
  {
   "cell_type": "markdown",
   "id": "cc262b90-b3f3-4fec-ad95-b08f96c36ffd",
   "metadata": {},
   "source": [
    "# Data Analysis"
   ]
  },
  {
   "cell_type": "code",
   "execution_count": null,
   "id": "edc4a509-3c9f-4b4c-b19d-b23e9680c6a8",
   "metadata": {},
   "outputs": [],
   "source": [
    "import matplotlib.pyplot as plt\n",
    "plt.rcParams['text.usetex'] = True"
   ]
  },
  {
   "cell_type": "code",
   "execution_count": null,
   "id": "fdc17ab7-cd66-405b-b481-102bf0c8ab2b",
   "metadata": {},
   "outputs": [],
   "source": [
    "# Function to read an XVG file and return the data\n",
    "def read_xvg(filename,verbose=False):\n",
    "    data = []\n",
    "    with open(filename, 'r') as file:\n",
    "        for line in file:\n",
    "            if not line.startswith(('@', '#', '&')):  # Skip comments and metadata\n",
    "                split_line = line.strip().split()\n",
    "                data.append([float(x) for x in split_line])  # Convert strings to floats\n",
    "            elif verbose:\n",
    "                print(line)\n",
    "    return np.array(data).transpose()  # This transposes the data, unpacking it into columns"
   ]
  },
  {
   "cell_type": "code",
   "execution_count": null,
   "id": "11708fbd-a6ba-4a69-99a7-04461b611cec",
   "metadata": {},
   "outputs": [],
   "source": [
    "xvg_file = 'md/rmsd.xvg'\n",
    "lig_data = read_xvg(xvg_file,verbose=False)\n",
    "xvg_file = 'test_md/rmsd.xvg'\n",
    "saq_data = read_xvg(xvg_file,verbose=False)\n",
    "\n",
    "fig = plt.figure(figsize=(4,3), dpi=100)\n",
    "ax = fig.add_subplot(1,1,1)\n",
    "ax.plot(lig_data[0], lig_data[1],c=\"#3250e5\",lw=0.5,label='fda_1700')\n",
    "ax.plot(saq_data[0], saq_data[1],c=\"#dd1010\",lw=0.5,label='saquinavir')\n",
    "ax.legend()\n",
    "ax.set_xlabel(r'Time (ps)', fontsize=11)  \n",
    "ax.set_ylabel(r'RMSD (nm)') \n",
    "# ax.set_title(r'\\textbf{RMSD} Lig after lsq fit to Protein') \n",
    "fig.savefig('report/figures/rmsd.svg', format='svg', transparent=True, bbox_inches='tight', pad_inches=0)"
   ]
  },
  {
   "cell_type": "code",
   "execution_count": null,
   "id": "c2974c0c-5b68-4691-a614-3626487136c8",
   "metadata": {},
   "outputs": [],
   "source": [
    "fig = plt.figure(figize=(4,3), dpi=100)\n",
    "ax = fig.add_subplot(1,1,1)\n",
    "ax.plot(data[0], data[1],c=\"#3250e5\",lw=0.5)\n",
    "ax.set_xlabel(r'Time (ps)', fontsize=11)  \n",
    "ax.set_ylabel(r'RMSD (nm)') \n",
    "# ax.set_title(r'\\textbf{RMSD} Lig after lsq fit to Protein') "
   ]
  },
  {
   "cell_type": "code",
   "execution_count": null,
   "id": "ee831cb3-7ee8-43cd-8dfc-426aafccd12f",
   "metadata": {},
   "outputs": [],
   "source": []
  }
 ],
 "metadata": {
  "kernelspec": {
   "display_name": "Python 3 (ipykernel)",
   "language": "python",
   "name": "python3"
  },
  "language_info": {
   "codemirror_mode": {
    "name": "ipython",
    "version": 3
   },
   "file_extension": ".py",
   "mimetype": "text/x-python",
   "name": "python",
   "nbconvert_exporter": "python",
   "pygments_lexer": "ipython3",
   "version": "3.12.3"
  }
 },
 "nbformat": 4,
 "nbformat_minor": 5
}
